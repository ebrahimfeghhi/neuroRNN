{
 "cells": [
  {
   "cell_type": "code",
   "execution_count": 57,
   "metadata": {},
   "outputs": [],
   "source": [
    "import torch\n",
    "import torch.nn as nn\n",
    "from torch.nn import Parameter\n",
    "import torch.jit as jit\n",
    "import warnings\n",
    "from collections import namedtuple\n",
    "from typing import List, Tuple\n",
    "from torch import Tensor\n",
    "import numbers\n",
    "\n",
    "device = torch.device('cuda' if torch.cuda.is_available() else 'cpu')"
   ]
  },
  {
   "cell_type": "code",
   "execution_count": 58,
   "metadata": {},
   "outputs": [],
   "source": [
    "RNNState = namedtuple('RNNState', ['r', 'I'])"
   ]
  },
  {
   "cell_type": "code",
   "execution_count": 86,
   "metadata": {},
   "outputs": [],
   "source": [
    "class NeuroRNNCell(jit.ScriptModule):\n",
    "    \n",
    "    def __init__(self, input_size, hidden_size, alpha_r, alpha_s, nonlinearity, bias=False, ratio=None):\n",
    "        \n",
    "        super(NeuroRNNCell, self).__init__()\n",
    "        self.input_size = input_size\n",
    "        self.nonlinearity = nonlinearity\n",
    "        self.hidden_size = hidden_size \n",
    "        self.alpha_r = alpha_r\n",
    "        self.alpha_s = alpha_s\n",
    "        self.bias = bias \n",
    "        self.Win = Parameter(torch.Tensor(hidden_size, input_size))\n",
    "        self.Wrec = Parameter(torch.Tensor(hidden_size, hidden_size))\n",
    "        self.ratio = ratio\n",
    "        \n",
    "        if bias:\n",
    "            self.bin = Parameter(torch.Tensor(hidden_size, hidden_size))\n",
    "            self.brec = Parameter(torch.Tensor(hidden_size))\n",
    "            \n",
    "        # init weights \n",
    "        nn.init.orthogonal_(self.Win)\n",
    "        nn.init.orthogonal_(self.Wrec)\n",
    "        \n",
    "    @jit.script_method\n",
    "    def forward(self, input, state):\n",
    "        # type: (Tensor, Tuple[Tensor, Tensor]) -> Tuple[Tensor, Tuple[Tensor, Tensor]]\n",
    "        r, I = state \n",
    "        \n",
    "        I = (1-self.alpha_s)*I + self.alpha_s*(torch.mm(self.Wrec, r) + torch.mm(self.Win, input.T))\n",
    "        r = (1-self.alpha_r)*r + self.alpha_r*(torch.tanh(I))\n",
    "        \n",
    "        return r, (r, I) "
   ]
  },
  {
   "cell_type": "code",
   "execution_count": 138,
   "metadata": {},
   "outputs": [],
   "source": [
    "class NeuroRNNLayer(jit.ScriptModule):\n",
    "    def __init__(self, cell, *cell_args):\n",
    "        super(NeuroRNNLayer, self).__init__()\n",
    "        self.cell = cell(*cell_args)\n",
    "        \n",
    "        \n",
    "    @jit.script_method\n",
    "    def forward(self, input, state):\n",
    "        # type: (Tensor, Tuple[Tensor, Tensor]) -> Tuple[Tensor, Tuple[Tensor, Tensor]]\n",
    "        inputs = input.unbind(1)\n",
    "        outputs = torch.jit.annotate(List[Tensor], [])\n",
    "        \n",
    "        for i in range(len(inputs)):\n",
    "            out, state = self.cell(inputs[i], state)\n",
    "            print(out.shape)\n",
    "            outputs += [out]\n",
    "            \n",
    "        return torch.stack(outputs).permute(2,0,1), state\n",
    "    "
   ]
  },
  {
   "cell_type": "code",
   "execution_count": 139,
   "metadata": {},
   "outputs": [],
   "source": [
    "seq_len = 4\n",
    "batch = 10 \n",
    "hidden_size = 5\n",
    "input_size = 1"
   ]
  },
  {
   "cell_type": "code",
   "execution_count": 140,
   "metadata": {},
   "outputs": [
    {
     "name": "stdout",
     "output_type": "stream",
     "text": [
      "[5, 10]\n",
      "[5, 10]\n",
      "[5, 10]\n",
      "[5, 10]\n",
      "torch.Size([10, 4, 5])\n"
     ]
    }
   ],
   "source": [
    "inp = torch.randn(batch, seq_len, input_size)\n",
    "state = RNNState(torch.randn(hidden_size, batch), torch.randn(hidden_size, batch))\n",
    "rnn = NeuroRNNLayer(NeuroRNNCell, input_size, hidden_size, 1, 1, 'relu')\n",
    "out, out_state = rnn(inp, state)\n",
    "print(out.shape)"
   ]
  },
  {
   "cell_type": "code",
   "execution_count": null,
   "metadata": {},
   "outputs": [],
   "source": []
  },
  {
   "cell_type": "code",
   "execution_count": null,
   "metadata": {},
   "outputs": [],
   "source": []
  }
 ],
 "metadata": {
  "kernelspec": {
   "display_name": "Python 3",
   "language": "python",
   "name": "python3"
  },
  "language_info": {
   "codemirror_mode": {
    "name": "ipython",
    "version": 3
   },
   "file_extension": ".py",
   "mimetype": "text/x-python",
   "name": "python",
   "nbconvert_exporter": "python",
   "pygments_lexer": "ipython3",
   "version": "3.7.6"
  }
 },
 "nbformat": 4,
 "nbformat_minor": 4
}
