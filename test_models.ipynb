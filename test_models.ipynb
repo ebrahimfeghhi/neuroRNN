{
 "cells": [
  {
   "cell_type": "code",
   "execution_count": 21,
   "metadata": {},
   "outputs": [],
   "source": [
    "import sys\n",
    "import numpy as np\n",
    "import torch\n",
    "from torch import tensor\n",
    "import torchvision \n",
    "import torch.nn as nn\n",
    "import torch.optim as optim \n",
    "import torch.nn.functional as F\n",
    "from torch.utils.data import DataLoader, Dataset\n",
    "import torchvision.datasets as datasets\n",
    "import torchvision.transforms as transforms\n",
    "from tqdm import tqdm\n",
    "from matplotlib import pyplot as plt\n",
    "import json\n",
    "from collections import namedtuple\n",
    "\n",
    "sequential_path = '/Users/ebrahimfeghhi/NCEL/rnn_modeling/activity_analysis/'\n",
    "sys.path.insert(1, sequential_path)\n",
    "from compute_SI import *\n",
    "\n",
    "neuro_jit_path = '/Users/ebrahimfeghhi/NCEL/rnn_modeling/models/'\n",
    "sys.path.insert(1, neuro_jit_path)\n",
    "from Neuro_RNN_JIT import NeuroRNNCell, NeuroRNNLayer, NeuroRNN\n",
    "\n",
    "data_path = '/Users/ebrahimfeghhi/NCEL/rnn_modeling/models/'\n",
    "sys.path.insert(1, neuro_jit_path)\n",
    "from Neuro_RNN_JIT import NeuroRNNCell, NeuroRNNLayer, NeuroRNN"
   ]
  },
  {
   "cell_type": "code",
   "execution_count": 22,
   "metadata": {},
   "outputs": [],
   "source": [
    "device = torch.device('cuda' if torch.cuda.is_available() else 'cpu')"
   ]
  },
  {
   "cell_type": "code",
   "execution_count": 23,
   "metadata": {},
   "outputs": [],
   "source": [
    "model_name = 'det_trial'\n",
    "base_file = 'saved_models/' + model_name + '/' \n",
    "mi_file = base_file + 'model_info_dict.json'                                   \n",
    "\n",
    "with open(mi_file, 'r') as f:\n",
    "    model_info_dict = json.load(f)"
   ]
  },
  {
   "cell_type": "code",
   "execution_count": 36,
   "metadata": {},
   "outputs": [
    {
     "name": "stdout",
     "output_type": "stream",
     "text": [
      "Input shape:  (20, 30, 10)\n"
     ]
    }
   ],
   "source": [
    "batch_size = 1\n",
    "num_trials=20\n",
    "seq_len=30\n",
    "dataset_folder_path = '/Users/ebrahimfeghhi/NCEL/rnn_modeling/datasets/'\n",
    "sys.path.insert(1, dataset_folder_path)\n",
    "from retrieve_datasets import retrieve\n",
    "test_set = retrieve(data_code=0, num_trials=20, n_in=model_info_dict['input_size'])\n",
    "testLoader = DataLoader(test_set, batch_size=batch_size,\n",
    "        shuffle=True)"
   ]
  },
  {
   "cell_type": "code",
   "execution_count": 37,
   "metadata": {},
   "outputs": [
    {
     "data": {
      "text/plain": [
       "NeuroRNN(\n",
       "  (rnn_layer): NeuroRNNLayer(\n",
       "    (cell): NeuroRNNCell()\n",
       "  )\n",
       ")"
      ]
     },
     "execution_count": 37,
     "metadata": {},
     "output_type": "execute_result"
    }
   ],
   "source": [
    "RNNState = namedtuple('RNNState', ['r', 'I'])\n",
    "state = RNNState(torch.zeros(model_info_dict['hidden_size'], batch_size), torch.zeros(model_info_dict['hidden_size'], batch_size))\n",
    "rnnLayer = NeuroRNNLayer(NeuroRNNCell, model_info_dict['input_size'], model_info_dict['hidden_size'], model_info_dict['alpha_r'], model_info_dict['alpha_s'], model_info_dict['nonlin'])\n",
    "model = NeuroRNN(rnnLayer, model_info_dict['output_dim'], ratio=.8)\n",
    "model.eval()"
   ]
  },
  {
   "cell_type": "code",
   "execution_count": 38,
   "metadata": {},
   "outputs": [],
   "source": [
    "total_hidden_state = torch.zeros(num_trials, seq_len, model_info_dict['hidden_size'])\n",
    "for i, (data, targets) in enumerate(testLoader):\n",
    "    output, hidden_state = model(data, state)\n",
    "    total_hidden_state[i] = hidden_state.permute(0,2,1).detach()\n",
    "hidr = total_hidden_state.numpy()"
   ]
  }
 ],
 "metadata": {
  "kernelspec": {
   "display_name": "Python 3",
   "language": "python",
   "name": "python3"
  },
  "language_info": {
   "codemirror_mode": {
    "name": "ipython",
    "version": 3
   },
   "file_extension": ".py",
   "mimetype": "text/x-python",
   "name": "python",
   "nbconvert_exporter": "python",
   "pygments_lexer": "ipython3",
   "version": "3.7.6"
  }
 },
 "nbformat": 4,
 "nbformat_minor": 4
}
